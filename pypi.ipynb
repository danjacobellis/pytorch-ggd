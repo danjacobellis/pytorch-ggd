{
 "cells": [
  {
   "cell_type": "code",
   "execution_count": 1,
   "id": "02267cda-db9e-4461-878e-17e419348107",
   "metadata": {},
   "outputs": [
    {
     "name": "stdout",
     "output_type": "stream",
     "text": [
      "\u001b[1m* Creating isolated environment: venv+pip...\u001b[0m\n",
      "\u001b[1m* Installing packages in isolated environment:\u001b[0m\n",
      "  - setuptools>=42\n",
      "  - wheel\n",
      "\u001b[1m* Getting build dependencies for sdist...\u001b[0m\n",
      "/tmp/build-env-7jck7fl8/lib/python3.10/site-packages/setuptools/config/expand.py:124: SetuptoolsWarning: File '/home/dgj335/danjacobellis/pytorch-ggd/LICENSE' cannot be found\n",
      "  return '\\n'.join(\n",
      "running egg_info\n",
      "creating src/pytorch_ggd.egg-info\n",
      "writing src/pytorch_ggd.egg-info/PKG-INFO\n",
      "writing dependency_links to src/pytorch_ggd.egg-info/dependency_links.txt\n",
      "writing requirements to src/pytorch_ggd.egg-info/requires.txt\n",
      "writing top-level names to src/pytorch_ggd.egg-info/top_level.txt\n",
      "writing manifest file 'src/pytorch_ggd.egg-info/SOURCES.txt'\n",
      "reading manifest file 'src/pytorch_ggd.egg-info/SOURCES.txt'\n",
      "writing manifest file 'src/pytorch_ggd.egg-info/SOURCES.txt'\n",
      "\u001b[1m* Building sdist...\u001b[0m\n",
      "/tmp/build-env-7jck7fl8/lib/python3.10/site-packages/setuptools/config/expand.py:124: SetuptoolsWarning: File '/home/dgj335/danjacobellis/pytorch-ggd/LICENSE' cannot be found\n",
      "  return '\\n'.join(\n",
      "running sdist\n",
      "running egg_info\n",
      "writing src/pytorch_ggd.egg-info/PKG-INFO\n",
      "writing dependency_links to src/pytorch_ggd.egg-info/dependency_links.txt\n",
      "writing requirements to src/pytorch_ggd.egg-info/requires.txt\n",
      "writing top-level names to src/pytorch_ggd.egg-info/top_level.txt\n",
      "reading manifest file 'src/pytorch_ggd.egg-info/SOURCES.txt'\n",
      "writing manifest file 'src/pytorch_ggd.egg-info/SOURCES.txt'\n",
      "running check\n",
      "creating pytorch_ggd-0.0.1\n",
      "creating pytorch_ggd-0.0.1/src/pytorch-ggd\n",
      "creating pytorch_ggd-0.0.1/src/pytorch_ggd.egg-info\n",
      "copying files to pytorch_ggd-0.0.1...\n",
      "copying README.md -> pytorch_ggd-0.0.1\n",
      "copying pyproject.toml -> pytorch_ggd-0.0.1\n",
      "copying src/pytorch-ggd/GGD.py -> pytorch_ggd-0.0.1/src/pytorch-ggd\n",
      "copying src/pytorch_ggd.egg-info/PKG-INFO -> pytorch_ggd-0.0.1/src/pytorch_ggd.egg-info\n",
      "copying src/pytorch_ggd.egg-info/SOURCES.txt -> pytorch_ggd-0.0.1/src/pytorch_ggd.egg-info\n",
      "copying src/pytorch_ggd.egg-info/dependency_links.txt -> pytorch_ggd-0.0.1/src/pytorch_ggd.egg-info\n",
      "copying src/pytorch_ggd.egg-info/requires.txt -> pytorch_ggd-0.0.1/src/pytorch_ggd.egg-info\n",
      "copying src/pytorch_ggd.egg-info/top_level.txt -> pytorch_ggd-0.0.1/src/pytorch_ggd.egg-info\n",
      "copying src/pytorch_ggd.egg-info/SOURCES.txt -> pytorch_ggd-0.0.1/src/pytorch_ggd.egg-info\n",
      "Writing pytorch_ggd-0.0.1/setup.cfg\n",
      "Creating tar archive\n",
      "removing 'pytorch_ggd-0.0.1' (and everything under it)\n",
      "\u001b[1m* Building wheel from sdist\u001b[0m\n",
      "\u001b[1m* Creating isolated environment: venv+pip...\u001b[0m\n",
      "\u001b[1m* Installing packages in isolated environment:\u001b[0m\n",
      "  - setuptools>=42\n",
      "  - wheel\n",
      "\u001b[1m* Getting build dependencies for wheel...\u001b[0m\n",
      "/tmp/build-env-jvpvootj/lib/python3.10/site-packages/setuptools/config/expand.py:124: SetuptoolsWarning: File '/tmp/build-via-sdist-v60_5fpt/pytorch_ggd-0.0.1/LICENSE' cannot be found\n",
      "  return '\\n'.join(\n",
      "running egg_info\n",
      "writing src/pytorch_ggd.egg-info/PKG-INFO\n",
      "writing dependency_links to src/pytorch_ggd.egg-info/dependency_links.txt\n",
      "writing requirements to src/pytorch_ggd.egg-info/requires.txt\n",
      "writing top-level names to src/pytorch_ggd.egg-info/top_level.txt\n",
      "reading manifest file 'src/pytorch_ggd.egg-info/SOURCES.txt'\n",
      "writing manifest file 'src/pytorch_ggd.egg-info/SOURCES.txt'\n",
      "\u001b[1m* Building wheel...\u001b[0m\n",
      "/tmp/build-env-jvpvootj/lib/python3.10/site-packages/setuptools/config/expand.py:124: SetuptoolsWarning: File '/tmp/build-via-sdist-v60_5fpt/pytorch_ggd-0.0.1/LICENSE' cannot be found\n",
      "  return '\\n'.join(\n",
      "running bdist_wheel\n",
      "running build\n",
      "running build_py\n",
      "creating build/lib/pytorch-ggd\n",
      "copying src/pytorch-ggd/GGD.py -> build/lib/pytorch-ggd\n",
      "running egg_info\n",
      "writing src/pytorch_ggd.egg-info/PKG-INFO\n",
      "writing dependency_links to src/pytorch_ggd.egg-info/dependency_links.txt\n",
      "writing requirements to src/pytorch_ggd.egg-info/requires.txt\n",
      "writing top-level names to src/pytorch_ggd.egg-info/top_level.txt\n",
      "reading manifest file 'src/pytorch_ggd.egg-info/SOURCES.txt'\n",
      "writing manifest file 'src/pytorch_ggd.egg-info/SOURCES.txt'\n",
      "installing to build/bdist.linux-x86_64/wheel\n",
      "running install\n",
      "running install_lib\n",
      "creating build/bdist.linux-x86_64/wheel\n",
      "creating build/bdist.linux-x86_64/wheel/pytorch-ggd\n",
      "copying build/lib/pytorch-ggd/GGD.py -> build/bdist.linux-x86_64/wheel/./pytorch-ggd\n",
      "running install_egg_info\n",
      "Copying src/pytorch_ggd.egg-info to build/bdist.linux-x86_64/wheel/./pytorch_ggd-0.0.1-py3.10.egg-info\n",
      "running install_scripts\n",
      "creating build/bdist.linux-x86_64/wheel/pytorch_ggd-0.0.1.dist-info/WHEEL\n",
      "creating '/home/dgj335/danjacobellis/pytorch-ggd/dist/.tmp-jixynxsa/pytorch_ggd-0.0.1-py3-none-any.whl' and adding 'build/bdist.linux-x86_64/wheel' to it\n",
      "adding 'pytorch-ggd/GGD.py'\n",
      "adding 'pytorch_ggd-0.0.1.dist-info/METADATA'\n",
      "adding 'pytorch_ggd-0.0.1.dist-info/WHEEL'\n",
      "adding 'pytorch_ggd-0.0.1.dist-info/top_level.txt'\n",
      "adding 'pytorch_ggd-0.0.1.dist-info/RECORD'\n",
      "removing build/bdist.linux-x86_64/wheel\n",
      "\u001b[1m\u001b[92mSuccessfully built \u001b[4mpytorch_ggd-0.0.1.tar.gz\u001b[0m\u001b[1m\u001b[92m and \u001b[4mpytorch_ggd-0.0.1-py3-none-any.whl\u001b[0m\u001b[1m\u001b[92m\u001b[0m\n"
     ]
    }
   ],
   "source": [
    "!python3 -m build"
   ]
  },
  {
   "cell_type": "code",
   "execution_count": 2,
   "id": "939498da-b450-4287-8ae0-4f77f6749de6",
   "metadata": {},
   "outputs": [
    {
     "name": "stdout",
     "output_type": "stream",
     "text": [
      "Uploading distributions to https://upload.pypi.org/legacy/\n",
      "Uploading pytorch_ggd-0.0.1-py3-none-any.whl\n",
      "\u001b[2K\u001b[35m100%\u001b[0m \u001b[90m━━━━━━━━━━━━━━━━━━━━━━━━━━━━━━━━━━━━━━━━\u001b[0m \u001b[32m5.3/5.3 kB\u001b[0m • \u001b[33m00:00\u001b[0m • \u001b[31m?\u001b[0m\n",
      "\u001b[?25hUploading pytorch_ggd-0.0.1.tar.gz\n",
      "\u001b[2K\u001b[35m100%\u001b[0m \u001b[90m━━━━━━━━━━━━━━━━━━━━━━━━━━━━━━━━━━━━━━━━\u001b[0m \u001b[32m5.2/5.2 kB\u001b[0m • \u001b[33m00:00\u001b[0m • \u001b[31m?\u001b[0m\n",
      "\u001b[?25h\n",
      "\u001b[32mView at:\u001b[0m\n",
      "https://pypi.org/project/pytorch-ggd/0.0.1/\n"
     ]
    }
   ],
   "source": [
    "!twine upload dist/*"
   ]
  }
 ],
 "metadata": {
  "kernelspec": {
   "display_name": "Python 3 (ipykernel)",
   "language": "python",
   "name": "python3"
  },
  "language_info": {
   "codemirror_mode": {
    "name": "ipython",
    "version": 3
   },
   "file_extension": ".py",
   "mimetype": "text/x-python",
   "name": "python",
   "nbconvert_exporter": "python",
   "pygments_lexer": "ipython3",
   "version": "3.10.12"
  }
 },
 "nbformat": 4,
 "nbformat_minor": 5
}
